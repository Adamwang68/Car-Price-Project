{
 "cells": [
  {
   "cell_type": "markdown",
   "metadata": {
    "id": "vuT4v0dYoFbA"
   },
   "source": [
    "### Comparison of Prices through Web scraping"
   ]
  },
  {
   "cell_type": "code",
   "execution_count": 1,
   "metadata": {
    "executionInfo": {
     "elapsed": 782,
     "status": "ok",
     "timestamp": 1616026623118,
     "user": {
      "displayName": "Ravi Doddavaram",
      "photoUrl": "",
      "userId": "10820994610138353105"
     },
     "user_tz": 240
    },
    "id": "JjJutcE5jmTW"
   },
   "outputs": [],
   "source": [
    "import bs4, requests\n",
    "import re\n",
    "import pandas as pd\n",
    "import numpy as np\n",
    "import json\n",
    "\n",
    "from re import sub\n",
    "from decimal import Decimal\n",
    "import matplotlib.pyplot as plt\n"
   ]
  },
  {
   "cell_type": "code",
   "execution_count": 2,
   "metadata": {
    "executionInfo": {
     "elapsed": 989,
     "status": "ok",
     "timestamp": 1616026643681,
     "user": {
      "displayName": "Ravi Doddavaram",
      "photoUrl": "",
      "userId": "10820994610138353105"
     },
     "user_tz": 240
    },
    "id": "FK5aTyU-mVp-"
   },
   "outputs": [],
   "source": [
    "url='https://www.cargurus.com/Cars/inventorylisting/viewDetailsFilterViewInventoryListing.action?zip=02150&showNegotiable=true&sortDir=ASC&sourceContext=carGurusHomePageModel&distance=50&sortType=DEAL_SCORE&entitySelectingHelper.selectedEntity=d930'\n",
    "res = requests.get(url)\n"
   ]
  },
  {
   "cell_type": "code",
   "execution_count": 3,
   "metadata": {
    "colab": {
     "base_uri": "https://localhost:8080/"
    },
    "executionInfo": {
     "elapsed": 1759,
     "status": "ok",
     "timestamp": 1616026707482,
     "user": {
      "displayName": "Ravi Doddavaram",
      "photoUrl": "",
      "userId": "10820994610138353105"
     },
     "user_tz": 240
    },
    "id": "hR9oelVMmZ2y",
    "outputId": "94842c6b-c5a4-459c-edc0-2e48b3b7abe4"
   },
   "outputs": [],
   "source": [
    "soup = bs4.BeautifulSoup(res.text)\n",
    "#print(soup.prettify())"
   ]
  },
  {
   "cell_type": "code",
   "execution_count": 4,
   "metadata": {},
   "outputs": [
    {
     "name": "stdout",
     "output_type": "stream",
     "text": [
      "<class 'dict'>\n"
     ]
    }
   ],
   "source": [
    "#find data in dictionary format\n",
    "dataset = soup.find_all(\"script\")\n",
    "dictionary = []\n",
    "for data in dataset:\n",
    "    #print(type(data))\n",
    "    #print(data)\n",
    "    if 'PREFLIGHT' in str(data):\n",
    "        dictionary.append(data)\n",
    "        #print('found')\n",
    "        break\n",
    "             \n",
    "data_str = str(dictionary)\n",
    "dict_object = json.loads(re.search('({.+})', data_str).group(0).replace(\"'\", '\"'))\n",
    "print(type(dict_object))\n",
    "#print(dict_object)"
   ]
  },
  {
   "cell_type": "code",
   "execution_count": 5,
   "metadata": {},
   "outputs": [
    {
     "data": {
      "text/html": [
       "<div>\n",
       "<style scoped>\n",
       "    .dataframe tbody tr th:only-of-type {\n",
       "        vertical-align: middle;\n",
       "    }\n",
       "\n",
       "    .dataframe tbody tr th {\n",
       "        vertical-align: top;\n",
       "    }\n",
       "\n",
       "    .dataframe thead th {\n",
       "        text-align: right;\n",
       "    }\n",
       "</style>\n",
       "<table border=\"1\" class=\"dataframe\">\n",
       "  <thead>\n",
       "    <tr style=\"text-align: right;\">\n",
       "      <th></th>\n",
       "      <th>Title</th>\n",
       "      <th>Price</th>\n",
       "      <th>Mileage</th>\n",
       "      <th>Year</th>\n",
       "    </tr>\n",
       "  </thead>\n",
       "  <tbody>\n",
       "    <tr>\n",
       "      <th>0</th>\n",
       "      <td>2019 Audi Q7 quattro Progressiv 45 TFSI AWD</td>\n",
       "      <td>34050.0</td>\n",
       "      <td>32160</td>\n",
       "      <td>2019</td>\n",
       "    </tr>\n",
       "    <tr>\n",
       "      <th>1</th>\n",
       "      <td>2018 Audi Q7 3.0 TFSI quattro Premium Plus AWD</td>\n",
       "      <td>25995.0</td>\n",
       "      <td>70362</td>\n",
       "      <td>2018</td>\n",
       "    </tr>\n",
       "    <tr>\n",
       "      <th>2</th>\n",
       "      <td>2019 Audi Q7 2.0T quattro Premium Plus AWD</td>\n",
       "      <td>41000.0</td>\n",
       "      <td>9957</td>\n",
       "      <td>2019</td>\n",
       "    </tr>\n",
       "    <tr>\n",
       "      <th>3</th>\n",
       "      <td>2019 Audi Q7 2.0T quattro Premium Plus AWD</td>\n",
       "      <td>36545.0</td>\n",
       "      <td>35338</td>\n",
       "      <td>2019</td>\n",
       "    </tr>\n",
       "    <tr>\n",
       "      <th>4</th>\n",
       "      <td>2019 Audi Q7 3.0T quattro Prestige AWD</td>\n",
       "      <td>44900.0</td>\n",
       "      <td>20464</td>\n",
       "      <td>2019</td>\n",
       "    </tr>\n",
       "    <tr>\n",
       "      <th>5</th>\n",
       "      <td>2015 Audi Q7 3.0T quattro Premium Plus AWD</td>\n",
       "      <td>17500.0</td>\n",
       "      <td>79761</td>\n",
       "      <td>2015</td>\n",
       "    </tr>\n",
       "    <tr>\n",
       "      <th>6</th>\n",
       "      <td>2019 Audi Q7 3.0T quattro Premium Plus AWD</td>\n",
       "      <td>38995.0</td>\n",
       "      <td>34021</td>\n",
       "      <td>2019</td>\n",
       "    </tr>\n",
       "    <tr>\n",
       "      <th>7</th>\n",
       "      <td>2020 Audi Q7 quattro Premium 45 TFSI AWD</td>\n",
       "      <td>42491.0</td>\n",
       "      <td>30754</td>\n",
       "      <td>2020</td>\n",
       "    </tr>\n",
       "    <tr>\n",
       "      <th>8</th>\n",
       "      <td>2015 Audi Q7 3.0T quattro Premium Plus AWD</td>\n",
       "      <td>16990.0</td>\n",
       "      <td>91012</td>\n",
       "      <td>2015</td>\n",
       "    </tr>\n",
       "    <tr>\n",
       "      <th>9</th>\n",
       "      <td>2018 Audi Q7 2.0 TFSI quattro Premium Plus AWD</td>\n",
       "      <td>32143.0</td>\n",
       "      <td>44143</td>\n",
       "      <td>2018</td>\n",
       "    </tr>\n",
       "    <tr>\n",
       "      <th>10</th>\n",
       "      <td>2019 Audi Q7 3.0T quattro Premium Plus AWD</td>\n",
       "      <td>42045.0</td>\n",
       "      <td>20672</td>\n",
       "      <td>2019</td>\n",
       "    </tr>\n",
       "    <tr>\n",
       "      <th>11</th>\n",
       "      <td>2015 Audi Q7 3.0T quattro Premium Plus AWD</td>\n",
       "      <td>14995.0</td>\n",
       "      <td>112347</td>\n",
       "      <td>2015</td>\n",
       "    </tr>\n",
       "    <tr>\n",
       "      <th>12</th>\n",
       "      <td>2017 Audi Q7 3.0T quattro Premium Plus AWD</td>\n",
       "      <td>23040.0</td>\n",
       "      <td>88788</td>\n",
       "      <td>2017</td>\n",
       "    </tr>\n",
       "    <tr>\n",
       "      <th>13</th>\n",
       "      <td>2019 Audi Q7 quattro Premium 55 TFSI AWD</td>\n",
       "      <td>36500.0</td>\n",
       "      <td>45260</td>\n",
       "      <td>2019</td>\n",
       "    </tr>\n",
       "    <tr>\n",
       "      <th>14</th>\n",
       "      <td>2019 Audi Q7 2.0T quattro Premium Plus AWD</td>\n",
       "      <td>38545.0</td>\n",
       "      <td>32550</td>\n",
       "      <td>2019</td>\n",
       "    </tr>\n",
       "  </tbody>\n",
       "</table>\n",
       "</div>"
      ],
      "text/plain": [
       "                                             Title    Price  Mileage  Year\n",
       "0      2019 Audi Q7 quattro Progressiv 45 TFSI AWD  34050.0    32160  2019\n",
       "1   2018 Audi Q7 3.0 TFSI quattro Premium Plus AWD  25995.0    70362  2018\n",
       "2       2019 Audi Q7 2.0T quattro Premium Plus AWD  41000.0     9957  2019\n",
       "3       2019 Audi Q7 2.0T quattro Premium Plus AWD  36545.0    35338  2019\n",
       "4           2019 Audi Q7 3.0T quattro Prestige AWD  44900.0    20464  2019\n",
       "5       2015 Audi Q7 3.0T quattro Premium Plus AWD  17500.0    79761  2015\n",
       "6       2019 Audi Q7 3.0T quattro Premium Plus AWD  38995.0    34021  2019\n",
       "7         2020 Audi Q7 quattro Premium 45 TFSI AWD  42491.0    30754  2020\n",
       "8       2015 Audi Q7 3.0T quattro Premium Plus AWD  16990.0    91012  2015\n",
       "9   2018 Audi Q7 2.0 TFSI quattro Premium Plus AWD  32143.0    44143  2018\n",
       "10      2019 Audi Q7 3.0T quattro Premium Plus AWD  42045.0    20672  2019\n",
       "11      2015 Audi Q7 3.0T quattro Premium Plus AWD  14995.0   112347  2015\n",
       "12      2017 Audi Q7 3.0T quattro Premium Plus AWD  23040.0    88788  2017\n",
       "13        2019 Audi Q7 quattro Premium 55 TFSI AWD  36500.0    45260  2019\n",
       "14      2019 Audi Q7 2.0T quattro Premium Plus AWD  38545.0    32550  2019"
      ]
     },
     "execution_count": 5,
     "metadata": {},
     "output_type": "execute_result"
    }
   ],
   "source": [
    "#for key, value in dict_object.items():\n",
    "    #print(key)\n",
    "\n",
    "listings = dict_object[\"listings\"]\n",
    "#print(type(listings))\n",
    "#print(listings)\n",
    "output_frame = pd.DataFrame(columns = ['Title','Price','Mileage', 'Year'])\n",
    "for car in listings:\n",
    "    year = car['carYear']\n",
    "    title = car['listingTitle']\n",
    "    price = car['price']\n",
    "    mileage = car['mileage']\n",
    "    output_frame.loc[len(output_frame.index)] = [title, price, mileage, year]\n",
    "    \n",
    "output_frame"
   ]
  },
  {
   "cell_type": "code",
   "execution_count": 6,
   "metadata": {},
   "outputs": [
    {
     "data": {
      "text/plain": [
       "32382.266666666666"
      ]
     },
     "execution_count": 6,
     "metadata": {},
     "output_type": "execute_result"
    }
   ],
   "source": [
    "Average_price_point_Boston= output_frame['Price'].mean()\n",
    "Average_price_point_Boston"
   ]
  },
  {
   "cell_type": "code",
   "execution_count": 7,
   "metadata": {},
   "outputs": [
    {
     "data": {
      "image/png": "[encoded data removed]",
      "text/plain": [
       "<Figure size 640x480 with 1 Axes>"
      ]
     },
     "metadata": {},
     "output_type": "display_data"
    }
   ],
   "source": [
    "plt.scatter(output_frame['Year'], output_frame['Price'], color='red', marker='o')\n",
    "plt.title('price of Audi Q7 in Boston', fontsize=14)\n",
    "plt.xlabel('year', fontsize=14)\n",
    "plt.ylabel('price', fontsize=14)\n",
    "plt.grid(True)\n",
    "plt.show()"
   ]
  },
  {
   "cell_type": "code",
   "execution_count": 8,
   "metadata": {
    "colab": {
     "base_uri": "https://localhost:8080/",
     "height": 106
    },
    "executionInfo": {
     "elapsed": 867,
     "status": "ok",
     "timestamp": 1607261473594,
     "user": {
      "displayName": "Xiaoyu Wang",
      "photoUrl": "",
      "userId": "06357200018372322073"
     },
     "user_tz": -480
    },
    "id": "YkVvgWQcpWd-",
    "outputId": "53f9c62c-d04a-4ce3-d623-31a27dc7056d"
   },
   "outputs": [
    {
     "data": {
      "text/html": [
       "<div>\n",
       "<style scoped>\n",
       "    .dataframe tbody tr th:only-of-type {\n",
       "        vertical-align: middle;\n",
       "    }\n",
       "\n",
       "    .dataframe tbody tr th {\n",
       "        vertical-align: top;\n",
       "    }\n",
       "\n",
       "    .dataframe thead th {\n",
       "        text-align: right;\n",
       "    }\n",
       "</style>\n",
       "<table border=\"1\" class=\"dataframe\">\n",
       "  <thead>\n",
       "    <tr style=\"text-align: right;\">\n",
       "      <th></th>\n",
       "      <th>Price</th>\n",
       "      <th>Mileage</th>\n",
       "      <th>Year</th>\n",
       "    </tr>\n",
       "  </thead>\n",
       "  <tbody>\n",
       "    <tr>\n",
       "      <th>Price</th>\n",
       "      <td>1.000000</td>\n",
       "      <td>-0.956302</td>\n",
       "      <td>0.943868</td>\n",
       "    </tr>\n",
       "    <tr>\n",
       "      <th>Mileage</th>\n",
       "      <td>-0.956302</td>\n",
       "      <td>1.000000</td>\n",
       "      <td>-0.888327</td>\n",
       "    </tr>\n",
       "    <tr>\n",
       "      <th>Year</th>\n",
       "      <td>0.943868</td>\n",
       "      <td>-0.888327</td>\n",
       "      <td>1.000000</td>\n",
       "    </tr>\n",
       "  </tbody>\n",
       "</table>\n",
       "</div>"
      ],
      "text/plain": [
       "            Price   Mileage      Year\n",
       "Price    1.000000 -0.956302  0.943868\n",
       "Mileage -0.956302  1.000000 -0.888327\n",
       "Year     0.943868 -0.888327  1.000000"
      ]
     },
     "execution_count": 8,
     "metadata": {},
     "output_type": "execute_result"
    }
   ],
   "source": [
    "output_frame['Year'] = pd.to_numeric(output_frame['Year'])\n",
    "output_frame['Price'] = pd.to_numeric(output_frame['Price'])\n",
    "output_frame['Price'].corr(output_frame['Year'])\n",
    "output_frame.corr()"
   ]
  },
  {
   "cell_type": "code",
   "execution_count": 9,
   "metadata": {},
   "outputs": [],
   "source": [
    "url2='https://www.cargurus.com/Cars/inventorylisting/viewDetailsFilterViewInventoryListing.action?zip=43212&showNegotiable=true&sortDir=ASC&sourceContext=carGurusHomePageModel&distance=50&sortType=DEAL_SCORE&entitySelectingHelper.selectedEntity=d930'\n",
    "res = requests.get(url2)"
   ]
  },
  {
   "cell_type": "code",
   "execution_count": 10,
   "metadata": {},
   "outputs": [],
   "source": [
    "soup = bs4.BeautifulSoup(res.text)\n",
    "#print(soup.prettify())"
   ]
  },
  {
   "cell_type": "code",
   "execution_count": 11,
   "metadata": {},
   "outputs": [
    {
     "name": "stdout",
     "output_type": "stream",
     "text": [
      "<class 'dict'>\n"
     ]
    }
   ],
   "source": [
    "#find data in dictionary format\n",
    "dataset = soup.find_all(\"script\")\n",
    "dictionary = []\n",
    "for data in dataset:\n",
    "    #print(type(data))\n",
    "    #print(data)\n",
    "    if 'PREFLIGHT' in str(data):\n",
    "        dictionary.append(data)\n",
    "        #print('found')\n",
    "        break\n",
    "             \n",
    "data_str = str(dictionary)\n",
    "dict_object = json.loads(re.search('({.+})', data_str).group(0).replace(\"'\", '\"'))\n",
    "print(type(dict_object))\n",
    "#print(dict_object)"
   ]
  },
  {
   "cell_type": "code",
   "execution_count": 12,
   "metadata": {},
   "outputs": [
    {
     "data": {
      "text/html": [
       "<div>\n",
       "<style scoped>\n",
       "    .dataframe tbody tr th:only-of-type {\n",
       "        vertical-align: middle;\n",
       "    }\n",
       "\n",
       "    .dataframe tbody tr th {\n",
       "        vertical-align: top;\n",
       "    }\n",
       "\n",
       "    .dataframe thead th {\n",
       "        text-align: right;\n",
       "    }\n",
       "</style>\n",
       "<table border=\"1\" class=\"dataframe\">\n",
       "  <thead>\n",
       "    <tr style=\"text-align: right;\">\n",
       "      <th></th>\n",
       "      <th>Title</th>\n",
       "      <th>Price</th>\n",
       "      <th>Mileage</th>\n",
       "      <th>Year</th>\n",
       "    </tr>\n",
       "  </thead>\n",
       "  <tbody>\n",
       "    <tr>\n",
       "      <th>0</th>\n",
       "      <td>2017 Audi Q7 3.0T quattro Prestige AWD</td>\n",
       "      <td>28799.0</td>\n",
       "      <td>61768</td>\n",
       "      <td>2017</td>\n",
       "    </tr>\n",
       "    <tr>\n",
       "      <th>1</th>\n",
       "      <td>2017 Audi Q7 2.0T quattro Premium Plus AWD</td>\n",
       "      <td>24380.0</td>\n",
       "      <td>73144</td>\n",
       "      <td>2017</td>\n",
       "    </tr>\n",
       "    <tr>\n",
       "      <th>2</th>\n",
       "      <td>2021 Audi Q7 quattro Premium Plus 55 TFSI AWD</td>\n",
       "      <td>47153.0</td>\n",
       "      <td>51478</td>\n",
       "      <td>2021</td>\n",
       "    </tr>\n",
       "    <tr>\n",
       "      <th>3</th>\n",
       "      <td>2019 Audi Q7 3.0T quattro SE Premium Plus AWD</td>\n",
       "      <td>34980.0</td>\n",
       "      <td>44336</td>\n",
       "      <td>2019</td>\n",
       "    </tr>\n",
       "    <tr>\n",
       "      <th>4</th>\n",
       "      <td>2018 Audi Q7 3.0 TFSI quattro Prestige AWD</td>\n",
       "      <td>28000.0</td>\n",
       "      <td>82675</td>\n",
       "      <td>2018</td>\n",
       "    </tr>\n",
       "    <tr>\n",
       "      <th>5</th>\n",
       "      <td>2017 Audi Q7 3.0T quattro Premium Plus AWD</td>\n",
       "      <td>23618.0</td>\n",
       "      <td>94240</td>\n",
       "      <td>2017</td>\n",
       "    </tr>\n",
       "    <tr>\n",
       "      <th>6</th>\n",
       "      <td>2020 Audi Q7 quattro Premium 55 TFSI AWD</td>\n",
       "      <td>45394.5</td>\n",
       "      <td>30344</td>\n",
       "      <td>2020</td>\n",
       "    </tr>\n",
       "    <tr>\n",
       "      <th>7</th>\n",
       "      <td>2013 Audi Q7 3.0T quattro S-Line Prestige AWD</td>\n",
       "      <td>13977.0</td>\n",
       "      <td>119478</td>\n",
       "      <td>2013</td>\n",
       "    </tr>\n",
       "    <tr>\n",
       "      <th>8</th>\n",
       "      <td>2018 Audi Q7 3.0 TFSI quattro Prestige AWD</td>\n",
       "      <td>26587.0</td>\n",
       "      <td>88182</td>\n",
       "      <td>2018</td>\n",
       "    </tr>\n",
       "    <tr>\n",
       "      <th>9</th>\n",
       "      <td>2017 Audi Q7 3.0T quattro Prestige AWD</td>\n",
       "      <td>25699.0</td>\n",
       "      <td>89123</td>\n",
       "      <td>2017</td>\n",
       "    </tr>\n",
       "    <tr>\n",
       "      <th>10</th>\n",
       "      <td>2019 Audi Q7 2.0T quattro SE Premium Plus AWD</td>\n",
       "      <td>32275.0</td>\n",
       "      <td>56497</td>\n",
       "      <td>2019</td>\n",
       "    </tr>\n",
       "    <tr>\n",
       "      <th>11</th>\n",
       "      <td>2011 Audi Q7 3.0 TDI quattro Premium Plus AWD</td>\n",
       "      <td>12789.5</td>\n",
       "      <td>108873</td>\n",
       "      <td>2011</td>\n",
       "    </tr>\n",
       "    <tr>\n",
       "      <th>12</th>\n",
       "      <td>2017 Audi Q7 3.0T quattro Prestige AWD</td>\n",
       "      <td>24060.0</td>\n",
       "      <td>101077</td>\n",
       "      <td>2017</td>\n",
       "    </tr>\n",
       "    <tr>\n",
       "      <th>13</th>\n",
       "      <td>2019 Audi Q7 2.0T quattro Premium Plus AWD</td>\n",
       "      <td>34334.6</td>\n",
       "      <td>51824</td>\n",
       "      <td>2019</td>\n",
       "    </tr>\n",
       "    <tr>\n",
       "      <th>14</th>\n",
       "      <td>2017 Audi Q7 3.0T quattro Premium Plus AWD</td>\n",
       "      <td>23972.0</td>\n",
       "      <td>92576</td>\n",
       "      <td>2017</td>\n",
       "    </tr>\n",
       "  </tbody>\n",
       "</table>\n",
       "</div>"
      ],
      "text/plain": [
       "                                            Title    Price  Mileage  Year\n",
       "0          2017 Audi Q7 3.0T quattro Prestige AWD  28799.0    61768  2017\n",
       "1      2017 Audi Q7 2.0T quattro Premium Plus AWD  24380.0    73144  2017\n",
       "2   2021 Audi Q7 quattro Premium Plus 55 TFSI AWD  47153.0    51478  2021\n",
       "3   2019 Audi Q7 3.0T quattro SE Premium Plus AWD  34980.0    44336  2019\n",
       "4      2018 Audi Q7 3.0 TFSI quattro Prestige AWD  28000.0    82675  2018\n",
       "5      2017 Audi Q7 3.0T quattro Premium Plus AWD  23618.0    94240  2017\n",
       "6        2020 Audi Q7 quattro Premium 55 TFSI AWD  45394.5    30344  2020\n",
       "7   2013 Audi Q7 3.0T quattro S-Line Prestige AWD  13977.0   119478  2013\n",
       "8      2018 Audi Q7 3.0 TFSI quattro Prestige AWD  26587.0    88182  2018\n",
       "9          2017 Audi Q7 3.0T quattro Prestige AWD  25699.0    89123  2017\n",
       "10  2019 Audi Q7 2.0T quattro SE Premium Plus AWD  32275.0    56497  2019\n",
       "11  2011 Audi Q7 3.0 TDI quattro Premium Plus AWD  12789.5   108873  2011\n",
       "12         2017 Audi Q7 3.0T quattro Prestige AWD  24060.0   101077  2017\n",
       "13     2019 Audi Q7 2.0T quattro Premium Plus AWD  34334.6    51824  2019\n",
       "14     2017 Audi Q7 3.0T quattro Premium Plus AWD  23972.0    92576  2017"
      ]
     },
     "execution_count": 12,
     "metadata": {},
     "output_type": "execute_result"
    }
   ],
   "source": [
    "#for key, value in dict_object.items():\n",
    "    #print(key)\n",
    "\n",
    "listings = dict_object[\"listings\"]\n",
    "#print(type(listings))\n",
    "#print(listings)\n",
    "output_frame = pd.DataFrame(columns = ['Title','Price','Mileage', 'Year'])\n",
    "for car in listings:\n",
    "    year = car['carYear']\n",
    "    title = car['listingTitle']\n",
    "    price = car['price']\n",
    "    mileage = car['mileage']\n",
    "    output_frame.loc[len(output_frame.index)] = [title, price, mileage, year]\n",
    "    \n",
    "output_frame"
   ]
  },
  {
   "cell_type": "code",
   "execution_count": 13,
   "metadata": {},
   "outputs": [
    {
     "data": {
      "text/plain": [
       "28401.239999999998"
      ]
     },
     "execution_count": 13,
     "metadata": {},
     "output_type": "execute_result"
    }
   ],
   "source": [
    "Average_price_point_Columbus=output_frame['Price'].mean()\n",
    "Average_price_point_Columbus"
   ]
  },
  {
   "cell_type": "code",
   "execution_count": 14,
   "metadata": {},
   "outputs": [
    {
     "data": {
      "text/html": [
       "<div>\n",
       "<style scoped>\n",
       "    .dataframe tbody tr th:only-of-type {\n",
       "        vertical-align: middle;\n",
       "    }\n",
       "\n",
       "    .dataframe tbody tr th {\n",
       "        vertical-align: top;\n",
       "    }\n",
       "\n",
       "    .dataframe thead th {\n",
       "        text-align: right;\n",
       "    }\n",
       "</style>\n",
       "<table border=\"1\" class=\"dataframe\">\n",
       "  <thead>\n",
       "    <tr style=\"text-align: right;\">\n",
       "      <th></th>\n",
       "      <th>Price</th>\n",
       "      <th>Mileage</th>\n",
       "      <th>Year</th>\n",
       "    </tr>\n",
       "  </thead>\n",
       "  <tbody>\n",
       "    <tr>\n",
       "      <th>Price</th>\n",
       "      <td>1.000000</td>\n",
       "      <td>-0.902003</td>\n",
       "      <td>0.912674</td>\n",
       "    </tr>\n",
       "    <tr>\n",
       "      <th>Mileage</th>\n",
       "      <td>-0.902003</td>\n",
       "      <td>1.000000</td>\n",
       "      <td>-0.805963</td>\n",
       "    </tr>\n",
       "    <tr>\n",
       "      <th>Year</th>\n",
       "      <td>0.912674</td>\n",
       "      <td>-0.805963</td>\n",
       "      <td>1.000000</td>\n",
       "    </tr>\n",
       "  </tbody>\n",
       "</table>\n",
       "</div>"
      ],
      "text/plain": [
       "            Price   Mileage      Year\n",
       "Price    1.000000 -0.902003  0.912674\n",
       "Mileage -0.902003  1.000000 -0.805963\n",
       "Year     0.912674 -0.805963  1.000000"
      ]
     },
     "execution_count": 14,
     "metadata": {},
     "output_type": "execute_result"
    }
   ],
   "source": [
    "output_frame['Year'] = pd.to_numeric(output_frame['Year'])\n",
    "output_frame['Price'] = pd.to_numeric(output_frame['Price'])\n",
    "output_frame['Price'].corr(output_frame['Year'])\n",
    "output_frame.corr()"
   ]
  },
  {
   "cell_type": "code",
   "execution_count": 15,
   "metadata": {},
   "outputs": [
    {
     "data": {
      "image/png": "[encoded data removed]",
      "text/plain": [
       "<Figure size 640x480 with 1 Axes>"
      ]
     },
     "metadata": {},
     "output_type": "display_data"
    }
   ],
   "source": [
    "plt.scatter(output_frame['Year'], output_frame['Price'], color='red', marker='o')\n",
    "plt.title('price of Audi Q7 in Columbus', fontsize=14)\n",
    "plt.xlabel('year', fontsize=14)\n",
    "plt.ylabel('price', fontsize=14)\n",
    "plt.grid(True)\n",
    "plt.show()"
   ]
  },
  {
   "cell_type": "code",
   "execution_count": null,
   "metadata": {},
   "outputs": [],
   "source": []
  }
 ],
 "metadata": {
  "colab": {
   "collapsed_sections": [],
   "name": "PriceComparison2.ipynb",
   "provenance": []
  },
  "kernelspec": {
   "display_name": "Python 3 (ipykernel)",
   "language": "python",
   "name": "python3"
  },
  "language_info": {
   "codemirror_mode": {
    "name": "ipython",
    "version": 3
   },
   "file_extension": ".py",
   "mimetype": "text/x-python",
   "name": "python",
   "nbconvert_exporter": "python",
   "pygments_lexer": "ipython3",
   "version": "3.9.13"
  }
 },
 "nbformat": 4,
 "nbformat_minor": 4
}
